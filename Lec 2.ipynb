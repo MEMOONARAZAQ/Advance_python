{
 "cells": [
  {
   "cell_type": "markdown",
   "id": "0e83d526-d791-4c7c-8150-a7457250559c",
   "metadata": {},
   "source": [
    "# Commenting in python"
   ]
  },
  {
   "cell_type": "code",
   "execution_count": 1,
   "id": "83299375-3796-4143-bb22-8880eff06a84",
   "metadata": {},
   "outputs": [
    {
     "name": "stdout",
     "output_type": "stream",
     "text": [
      "6\n"
     ]
    }
   ],
   "source": [
    "# program to add two numbers\n",
    "a=1\n",
    "b=5\n",
    "print (a+b)"
   ]
  },
  {
   "cell_type": "markdown",
   "id": "1e773b29-898d-4064-938a-ae889dde392b",
   "metadata": {},
   "source": [
    "# Data Types"
   ]
  },
  {
   "cell_type": "code",
   "execution_count": 2,
   "id": "3ed2b1ab-bd85-4238-96eb-ea4d5a04f88b",
   "metadata": {},
   "outputs": [
    {
     "name": "stdout",
     "output_type": "stream",
     "text": [
      "<class 'int'>\n"
     ]
    }
   ],
   "source": [
    "# Integer data type\n",
    "r=466\n",
    "print(type(r))"
   ]
  },
  {
   "cell_type": "code",
   "execution_count": 3,
   "id": "4e33d481-cc54-4de2-97f9-c18edb03fbb1",
   "metadata": {},
   "outputs": [
    {
     "name": "stdout",
     "output_type": "stream",
     "text": [
      "My name is Memoona\n",
      "<class 'str'>\n"
     ]
    }
   ],
   "source": [
    "# String data type\n",
    "name= \"My name is Memoona\"\n",
    "print(name)\n",
    "print(type(name))"
   ]
  },
  {
   "cell_type": "markdown",
   "id": "28f064e1-06e4-4032-aed8-e953f2d7f50a",
   "metadata": {},
   "source": [
    "# Arithmetic Operators"
   ]
  },
  {
   "cell_type": "code",
   "execution_count": 4,
   "id": "def17ef3-7c28-452f-a69e-00fe80010b57",
   "metadata": {},
   "outputs": [
    {
     "name": "stdout",
     "output_type": "stream",
     "text": [
      "120\n",
      "11\n",
      "12\n",
      "8.333333333333334\n",
      "5\n",
      "6\n",
      "27\n"
     ]
    }
   ],
   "source": [
    "# Addition\n",
    "print (22+98)\n",
    "# Subtraction\n",
    "print (89-78)\n",
    "# Multiplication\n",
    "print (3*4)\n",
    "# Division floating value\n",
    "print (50/6)\n",
    "# Division integer value\n",
    "print (34//6)\n",
    "# Modulus\n",
    "print (20%7)\n",
    "# power\n",
    "print (3**3)\n"
   ]
  },
  {
   "cell_type": "markdown",
   "id": "416cf19a-c5c2-4a16-9cc7-8da16be5a19c",
   "metadata": {},
   "source": [
    "# Assignment Operators"
   ]
  },
  {
   "cell_type": "code",
   "execution_count": 5,
   "id": "8370fc1b-493e-4e54-ad02-215bb53979ad",
   "metadata": {},
   "outputs": [
    {
     "name": "stdout",
     "output_type": "stream",
     "text": [
      "101\n"
     ]
    }
   ],
   "source": [
    "# Add and Assign\n",
    "v=56\n",
    "v += 45\n",
    "print (v)"
   ]
  },
  {
   "cell_type": "code",
   "execution_count": 6,
   "id": "9d5884d2-af87-4fa2-ba13-973a3d8b3b5b",
   "metadata": {},
   "outputs": [
    {
     "name": "stdout",
     "output_type": "stream",
     "text": [
      "11\n"
     ]
    }
   ],
   "source": [
    "# Sub and Assign\n",
    "v=56\n",
    "v -= 45\n",
    "print (v)"
   ]
  },
  {
   "cell_type": "markdown",
   "id": "f6b74d6b-c50b-459f-bdab-578083619d00",
   "metadata": {},
   "source": [
    "# Comparison Operator"
   ]
  },
  {
   "cell_type": "code",
   "execution_count": 7,
   "id": "2e40136a-44ad-4336-94e9-a94e0bb83cdf",
   "metadata": {},
   "outputs": [
    {
     "name": "stdout",
     "output_type": "stream",
     "text": [
      "False\n",
      "False\n",
      "True\n"
     ]
    }
   ],
   "source": [
    "# equal \n",
    "print (4==5)\n",
    "# greater or equal\n",
    "print( 4>=5)\n",
    "# Lesser and equal\n",
    "print( 4<=5)"
   ]
  },
  {
   "cell_type": "markdown",
   "id": "413ddb37-3e46-4fd7-b868-40dbb43a3514",
   "metadata": {},
   "source": [
    "# Logical Operators"
   ]
  },
  {
   "cell_type": "code",
   "execution_count": 8,
   "id": "b1ba08c3-c244-48d7-99c1-e258d48059a3",
   "metadata": {},
   "outputs": [
    {
     "name": "stdout",
     "output_type": "stream",
     "text": [
      "Hello\n"
     ]
    }
   ],
   "source": [
    "# and\n",
    "print ( \"Hello\" and \"Hello\" )"
   ]
  },
  {
   "cell_type": "code",
   "execution_count": 9,
   "id": "9f48a7d7-1d7d-4067-a578-3cf315aae956",
   "metadata": {},
   "outputs": [
    {
     "name": "stdout",
     "output_type": "stream",
     "text": [
      "False\n"
     ]
    }
   ],
   "source": [
    "# and\n",
    "print (4==5 and 4<=5)"
   ]
  },
  {
   "cell_type": "code",
   "execution_count": 10,
   "id": "6f362931-5467-47fe-acba-ecc3b0e42668",
   "metadata": {},
   "outputs": [
    {
     "name": "stdout",
     "output_type": "stream",
     "text": [
      "Hi\n"
     ]
    }
   ],
   "source": [
    "# and\n",
    "print ( \"Hello\" and \"Hi\" )"
   ]
  },
  {
   "cell_type": "code",
   "execution_count": 11,
   "id": "da294fa5-0dc5-43d2-b664-a398964f332f",
   "metadata": {},
   "outputs": [
    {
     "name": "stdout",
     "output_type": "stream",
     "text": [
      "True\n"
     ]
    }
   ],
   "source": [
    "#not \n",
    "print (not 4==5)"
   ]
  },
  {
   "cell_type": "markdown",
   "id": "50c54dc8-eaa6-4690-9390-3c95bb0a3a5d",
   "metadata": {},
   "source": [
    "# Implicit Data type Conversion"
   ]
  },
  {
   "cell_type": "code",
   "execution_count": 12,
   "id": "3dcf71f0-3706-4211-baeb-8be66e3c6522",
   "metadata": {},
   "outputs": [
    {
     "name": "stdout",
     "output_type": "stream",
     "text": [
      "390.765\n"
     ]
    }
   ],
   "source": [
    "print (45.765 + 345)"
   ]
  },
  {
   "cell_type": "code",
   "execution_count": 13,
   "id": "0119057f-98bd-4eed-a650-169164bf9f52",
   "metadata": {},
   "outputs": [
    {
     "name": "stdout",
     "output_type": "stream",
     "text": [
      "4.0\n"
     ]
    }
   ],
   "source": [
    "print (20/5)"
   ]
  },
  {
   "cell_type": "markdown",
   "id": "6beb94a0-f87e-4167-8472-69731e7070cd",
   "metadata": {},
   "source": [
    "# Explicit Data type Conversation"
   ]
  },
  {
   "cell_type": "code",
   "execution_count": 14,
   "id": "4e6ecb0f-9882-4010-baab-2777cda0e9c4",
   "metadata": {},
   "outputs": [
    {
     "name": "stdout",
     "output_type": "stream",
     "text": [
      "<class 'str'>\n",
      "156\n",
      "<class 'int'>\n",
      "156\n"
     ]
    }
   ],
   "source": [
    "w= \"156\"\n",
    "print (type(w))\n",
    "print (w)\n",
    "w= int(w)\n",
    "print (type(w))\n",
    "print (w)"
   ]
  },
  {
   "cell_type": "code",
   "execution_count": 15,
   "id": "f546f09d-cfa7-41fa-9186-2ee27a7da4d9",
   "metadata": {},
   "outputs": [
    {
     "name": "stdout",
     "output_type": "stream",
     "text": [
      "<class 'str'>\n",
      "156\n",
      "<class 'float'>\n",
      "156.0\n"
     ]
    }
   ],
   "source": [
    "w= \"156\"\n",
    "print (type(w))\n",
    "print (w)\n",
    "w= float(w)\n",
    "print (type(w))\n",
    "print (w)"
   ]
  },
  {
   "cell_type": "markdown",
   "id": "a1b87dad-42d5-4b05-b5ff-064dd8d3cffe",
   "metadata": {},
   "source": [
    "# Print Command"
   ]
  },
  {
   "cell_type": "code",
   "execution_count": 16,
   "id": "3e8af6ad-cae5-491a-b29a-f7770bc2f3c0",
   "metadata": {},
   "outputs": [
    {
     "name": "stdout",
     "output_type": "stream",
     "text": [
      "My Name is Memoona \n",
      "Python is a highlevel language\n",
      "It is easy and fun\n"
     ]
    }
   ],
   "source": [
    "print ( \"My Name is Memoona \\nPython is a highlevel language\\nIt is easy and fun\")"
   ]
  },
  {
   "cell_type": "markdown",
   "id": "c400838f-c802-4e1d-8124-8f0fbafa4abb",
   "metadata": {},
   "source": [
    "# Exercise"
   ]
  },
  {
   "cell_type": "code",
   "execution_count": 17,
   "id": "c86301a1-5a69-40b0-9e7b-c9dd5c0afea0",
   "metadata": {},
   "outputs": [
    {
     "name": "stdout",
     "output_type": "stream",
     "text": [
      "Memoona Razaq\n",
      "23years old\n",
      "Studying Microbiology\n",
      "right now practicing Python\n",
      "39\n",
      "51\n"
     ]
    }
   ],
   "source": [
    "print (\"Memoona Razaq\\n23years old\\nStudying Microbiology\\nright now practicing Python\")\n",
    "a=45\n",
    "b=6\n",
    "print (a-b)\n",
    "print (a+b)"
   ]
  },
  {
   "cell_type": "markdown",
   "id": "8e6c776f-f21d-42cb-9011-7a3a8bf56961",
   "metadata": {},
   "source": [
    "# Input Command"
   ]
  },
  {
   "cell_type": "code",
   "execution_count": 18,
   "id": "b32ba4fd-985e-425a-b551-e5fec0054cee",
   "metadata": {},
   "outputs": [
    {
     "name": "stdin",
     "output_type": "stream",
     "text": [
      "what is your name? Memoona\n"
     ]
    },
    {
     "name": "stdout",
     "output_type": "stream",
     "text": [
      "Good Evening Memoona !\n"
     ]
    }
   ],
   "source": [
    "name= input(\"what is your name?\")\n",
    "print (\"Good Evening\",name,\"!\")"
   ]
  },
  {
   "cell_type": "code",
   "execution_count": 19,
   "id": "3ba6125f-4680-4010-8acd-b773b9cc179d",
   "metadata": {},
   "outputs": [
    {
     "name": "stdin",
     "output_type": "stream",
     "text": [
      "Enter 1st number:  12\n",
      "Enter 2nd number:  15\n"
     ]
    },
    {
     "name": "stdout",
     "output_type": "stream",
     "text": [
      "sum is: 27\n"
     ]
    }
   ],
   "source": [
    "num1= int(input(\"Enter 1st number: \"))\n",
    "num2= input(\"Enter 2nd number: \")\n",
    "num2=int(num2)\n",
    "sum = num1 + num2\n",
    "print (\"sum is:\",sum)"
   ]
  },
  {
   "cell_type": "code",
   "execution_count": 27,
   "id": "03045bc4-d41c-4a9d-8f05-31b094a67412",
   "metadata": {},
   "outputs": [
    {
     "name": "stdout",
     "output_type": "stream",
     "text": [
      "27\n"
     ]
    }
   ],
   "source": [
    "number = 27\n",
    "square_root = number\n",
    "print (square_root)"
   ]
  },
  {
   "cell_type": "markdown",
   "id": "ba3d558c-f3d8-4cbc-aaa9-e8a6d6f52db6",
   "metadata": {},
   "source": [
    " "
   ]
  }
 ],
 "metadata": {
  "kernelspec": {
   "display_name": "Python 3 (ipykernel)",
   "language": "python",
   "name": "python3"
  },
  "language_info": {
   "codemirror_mode": {
    "name": "ipython",
    "version": 3
   },
   "file_extension": ".py",
   "mimetype": "text/x-python",
   "name": "python",
   "nbconvert_exporter": "python",
   "pygments_lexer": "ipython3",
   "version": "3.13.5"
  }
 },
 "nbformat": 4,
 "nbformat_minor": 5
}
