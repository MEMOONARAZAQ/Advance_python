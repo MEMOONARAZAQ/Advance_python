{
 "cells": [
  {
   "cell_type": "code",
   "execution_count": 1,
   "id": "a5c03ad6-96d5-4369-8250-ec2d662a8ada",
   "metadata": {},
   "outputs": [
    {
     "name": "stdout",
     "output_type": "stream",
     "text": [
      "Hello\n"
     ]
    }
   ],
   "source": [
    "print(\"Hello\")"
   ]
  },
  {
   "cell_type": "code",
   "execution_count": null,
   "id": "b0183bf8-ea25-4e5a-8372-eab6a366fee2",
   "metadata": {
    "scrolled": true
   },
   "outputs": [],
   "source": [
    "int1=1\n",
    "print(int1)"
   ]
  },
  {
   "cell_type": "code",
   "execution_count": 3,
   "id": "63610451-72fc-4469-8045-732c5f5ffed0",
   "metadata": {},
   "outputs": [
    {
     "name": "stdout",
     "output_type": "stream",
     "text": [
      "2\n"
     ]
    }
   ],
   "source": [
    "int1=2\n",
    "print(int1)"
   ]
  },
  {
   "cell_type": "code",
   "execution_count": 4,
   "id": "ad1d4801-a81c-448d-af26-213398093f81",
   "metadata": {},
   "outputs": [
    {
     "name": "stdout",
     "output_type": "stream",
     "text": [
      "1.1\n"
     ]
    }
   ],
   "source": [
    "float2=1.1\n",
    "print(float2)"
   ]
  },
  {
   "cell_type": "code",
   "execution_count": 5,
   "id": "c7efadfc-8205-4900-971b-8eb48ec6eb87",
   "metadata": {},
   "outputs": [
    {
     "name": "stdout",
     "output_type": "stream",
     "text": [
      "Hello\n"
     ]
    }
   ],
   "source": [
    "str1=\"Hello\"\n",
    "print(str1)"
   ]
  },
  {
   "cell_type": "code",
   "execution_count": 6,
   "id": "1eb103e8-10b6-4dfd-ba41-d084aadcc75b",
   "metadata": {},
   "outputs": [
    {
     "name": "stdout",
     "output_type": "stream",
     "text": [
      "['apple', 'mango', 3]\n"
     ]
    }
   ],
   "source": [
    "list1=['apple','mango',3]\n",
    "print(list1)"
   ]
  },
  {
   "cell_type": "code",
   "execution_count": 7,
   "id": "ea81abfd-8d70-417d-99ae-e810c1e6d775",
   "metadata": {},
   "outputs": [
    {
     "name": "stdout",
     "output_type": "stream",
     "text": [
      "(2, 3, 4)\n"
     ]
    }
   ],
   "source": [
    "tuple1=(2,3,4)\n",
    "print(tuple1)"
   ]
  },
  {
   "cell_type": "code",
   "execution_count": null,
   "id": "4b36ee79-6794-4bb0-a313-3e3997da30d6",
   "metadata": {},
   "outputs": [],
   "source": []
  },
  {
   "cell_type": "code",
   "execution_count": null,
   "id": "2d9403a3-ea4b-416a-b0eb-4e07bbd8f81e",
   "metadata": {},
   "outputs": [],
   "source": []
  }
 ],
 "metadata": {
  "kernelspec": {
   "display_name": "Python [conda env:New folder]",
   "language": "python",
   "name": "conda-env-New_folder-py"
  },
  "language_info": {
   "codemirror_mode": {
    "name": "ipython",
    "version": 3
   },
   "file_extension": ".py",
   "mimetype": "text/x-python",
   "name": "python",
   "nbconvert_exporter": "python",
   "pygments_lexer": "ipython3",
   "version": "3.13.5"
  }
 },
 "nbformat": 4,
 "nbformat_minor": 5
}
