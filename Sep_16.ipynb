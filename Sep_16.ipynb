{
 "cells": [
  {
   "cell_type": "markdown",
   "id": "f5f6cc6d-1131-4cdb-97de-c8390ef9533b",
   "metadata": {},
   "source": [
    "# Slicing Lists"
   ]
  },
  {
   "cell_type": "markdown",
   "id": "f2eab7e4-63dd-4430-b04c-4babf1b9e11f",
   "metadata": {},
   "source": [
    "List[start: end: step]"
   ]
  },
  {
   "cell_type": "code",
   "execution_count": 21,
   "id": "ec55a2db-af7a-40e5-afd3-6e561adec6e9",
   "metadata": {},
   "outputs": [
    {
     "name": "stdout",
     "output_type": "stream",
     "text": [
      "[0, 1, 2, 3, 4, 5]\n"
     ]
    }
   ],
   "source": [
    "number = [0,1,2,3,4,5]\n",
    "print(number)"
   ]
  },
  {
   "cell_type": "code",
   "execution_count": 22,
   "id": "7eeff888-eaf9-4b13-a384-ee5dcb277a82",
   "metadata": {},
   "outputs": [
    {
     "name": "stdout",
     "output_type": "stream",
     "text": [
      "[0, 2, 4]\n"
     ]
    }
   ],
   "source": [
    "print(number[::2])"
   ]
  },
  {
   "cell_type": "code",
   "execution_count": 23,
   "id": "62ef57ea-6081-4f64-a0fb-bbab768de723",
   "metadata": {},
   "outputs": [
    {
     "name": "stdout",
     "output_type": "stream",
     "text": [
      "[5, 4, 3, 2, 1, 0]\n"
     ]
    }
   ],
   "source": [
    "print(number[::-1])"
   ]
  },
  {
   "cell_type": "code",
   "execution_count": 24,
   "id": "b9253ce5-2f16-4c1e-8768-385519a6c341",
   "metadata": {},
   "outputs": [
    {
     "name": "stdout",
     "output_type": "stream",
     "text": [
      "[0, 1, 2, 3]\n"
     ]
    }
   ],
   "source": [
    "print(number[0:4])"
   ]
  },
  {
   "cell_type": "code",
   "execution_count": 25,
   "id": "8d5b1d63-a386-464a-8c78-b7d84b376ee7",
   "metadata": {},
   "outputs": [
    {
     "name": "stdout",
     "output_type": "stream",
     "text": [
      "[0, 1, 2, 3, 4]\n"
     ]
    }
   ],
   "source": [
    "print(number[:5])"
   ]
  },
  {
   "cell_type": "code",
   "execution_count": 26,
   "id": "b37f62da-5853-450c-be2a-7e9034d3f307",
   "metadata": {},
   "outputs": [
    {
     "name": "stdout",
     "output_type": "stream",
     "text": [
      "[5]\n"
     ]
    }
   ],
   "source": [
    "print(number[5:])"
   ]
  },
  {
   "cell_type": "code",
   "execution_count": 27,
   "id": "331e1210-fe9e-4fff-91cf-a3db88e946e7",
   "metadata": {},
   "outputs": [
    {
     "name": "stdout",
     "output_type": "stream",
     "text": [
      "[0, 1, 2, 3, 4, 5]\n"
     ]
    }
   ],
   "source": [
    "print(number[:])"
   ]
  },
  {
   "cell_type": "code",
   "execution_count": 28,
   "id": "46494196-eade-49ca-b912-3d526fef2ae7",
   "metadata": {},
   "outputs": [
    {
     "name": "stdout",
     "output_type": "stream",
     "text": [
      "[0, 3]\n"
     ]
    }
   ],
   "source": [
    "print(number[::3])"
   ]
  },
  {
   "cell_type": "code",
   "execution_count": 29,
   "id": "bb471e35-6ffc-4f95-8849-e824239472c7",
   "metadata": {},
   "outputs": [
    {
     "name": "stdout",
     "output_type": "stream",
     "text": [
      "[0, 1, 2, 3, 4, 5]\n"
     ]
    }
   ],
   "source": [
    "print(number[::])"
   ]
  },
  {
   "cell_type": "code",
   "execution_count": 15,
   "id": "7e21ecd2-5368-4264-983a-9e43322ccbb5",
   "metadata": {},
   "outputs": [
    {
     "name": "stdout",
     "output_type": "stream",
     "text": [
      "['grapes', 'bnana', 'orange']\n"
     ]
    }
   ],
   "source": [
    "fruits=['apple','bnana','orange']\n",
    "fruits[0]='grapes'\n",
    "print(fruits)"
   ]
  },
  {
   "cell_type": "code",
   "execution_count": 17,
   "id": "d5b8e730-4b1a-483f-92c2-70402bb36c56",
   "metadata": {},
   "outputs": [
    {
     "name": "stdout",
     "output_type": "stream",
     "text": [
      "[1, 2, 3, 10]\n"
     ]
    }
   ],
   "source": [
    "num=[1,2,3,4]\n",
    "num[-1]=10\n",
    "print(num)"
   ]
  },
  {
   "cell_type": "markdown",
   "id": "457e4c4c-a423-4085-a802-15b2f9210432",
   "metadata": {},
   "source": [
    "# add elements/items"
   ]
  },
  {
   "cell_type": "code",
   "execution_count": 18,
   "id": "5987ce0c-9f52-4fd8-a6dc-71cbea485aeb",
   "metadata": {},
   "outputs": [
    {
     "name": "stdout",
     "output_type": "stream",
     "text": [
      "[1, 2, 3, 4, 5]\n"
     ]
    }
   ],
   "source": [
    "my_list=[1,2,3,4]\n",
    "my_list.append(5)\n",
    "print(my_list)"
   ]
  },
  {
   "cell_type": "code",
   "execution_count": 30,
   "id": "2f2bff82-f0fa-418d-a1bb-040084641c29",
   "metadata": {},
   "outputs": [
    {
     "name": "stdout",
     "output_type": "stream",
     "text": [
      "[1, 99, 2, 3, 4, 5]\n"
     ]
    }
   ],
   "source": [
    "my_list.insert(1,99)\n",
    "print(my_list)"
   ]
  },
  {
   "cell_type": "code",
   "execution_count": 31,
   "id": "d2f04c83-4786-49e8-8392-89243d6cb481",
   "metadata": {},
   "outputs": [
    {
     "name": "stdout",
     "output_type": "stream",
     "text": [
      "[1, 10, 2, 3, 4, 5]\n"
     ]
    }
   ],
   "source": [
    "my_list[1]=10\n",
    "print(my_list)"
   ]
  },
  {
   "cell_type": "code",
   "execution_count": 32,
   "id": "cc013892-db17-47e8-8fc1-459760b33bb1",
   "metadata": {},
   "outputs": [
    {
     "name": "stdout",
     "output_type": "stream",
     "text": [
      "[1, 2, 3, 4, 5, 6]\n"
     ]
    }
   ],
   "source": [
    "a=[1,2,3]\n",
    "b=[4,5,6]\n",
    "c=a+b\n",
    "print(c)"
   ]
  },
  {
   "cell_type": "code",
   "execution_count": 33,
   "id": "50351d28-635e-4d15-8d3e-87554e9c40ea",
   "metadata": {},
   "outputs": [
    {
     "name": "stdout",
     "output_type": "stream",
     "text": [
      "[1, 2, 3, 4, 5, 6]\n"
     ]
    }
   ],
   "source": [
    "a.extend(b)\n",
    "print(a)"
   ]
  },
  {
   "cell_type": "markdown",
   "id": "b63a2f69-b7db-4491-b43a-c6a592af98bd",
   "metadata": {},
   "source": [
    "# Manipulate"
   ]
  },
  {
   "cell_type": "code",
   "execution_count": 35,
   "id": "8531ad5b-bead-44f7-9d4f-d478ab8b60ac",
   "metadata": {},
   "outputs": [
    {
     "name": "stdout",
     "output_type": "stream",
     "text": [
      "[2, 3, 4]\n"
     ]
    }
   ],
   "source": [
    "list_1=[1,2,3,4]\n",
    "list_1.remove(1)\n",
    "print(list_1)"
   ]
  },
  {
   "cell_type": "code",
   "execution_count": 36,
   "id": "21955585-ea1e-479f-bac1-9de8af330d6b",
   "metadata": {},
   "outputs": [
    {
     "name": "stdout",
     "output_type": "stream",
     "text": [
      "[2, 3, 4, 1]\n"
     ]
    }
   ],
   "source": [
    "list_1=[1,2,3,4,1]\n",
    "list_1.remove(1)\n",
    "print(list_1)"
   ]
  },
  {
   "cell_type": "code",
   "execution_count": 37,
   "id": "e555cd29-073e-4970-a40d-9d2bee3f0858",
   "metadata": {},
   "outputs": [
    {
     "name": "stdout",
     "output_type": "stream",
     "text": [
      "20\n",
      "[10, 30, 40]\n"
     ]
    }
   ],
   "source": [
    "my_list=[10,20,30,40]\n",
    "removed_item=my_list.pop(1)\n",
    "print(removed_item)\n",
    "print(my_list)"
   ]
  },
  {
   "cell_type": "code",
   "execution_count": 38,
   "id": "4167309e-9db3-4ee0-99ad-503410d62a9c",
   "metadata": {},
   "outputs": [
    {
     "name": "stdout",
     "output_type": "stream",
     "text": [
      "[1, 2, 4, 5]\n"
     ]
    }
   ],
   "source": [
    "my_list=[1,2,3,4,5]\n",
    "del my_list[2]\n",
    "print(my_list)"
   ]
  },
  {
   "cell_type": "code",
   "execution_count": 39,
   "id": "584cadee-eb15-44da-a71f-7bf39ba7c97c",
   "metadata": {},
   "outputs": [
    {
     "name": "stdout",
     "output_type": "stream",
     "text": [
      "[1, 2]\n"
     ]
    }
   ],
   "source": [
    "del my_list[2:]\n",
    "print(my_list)"
   ]
  },
  {
   "cell_type": "code",
   "execution_count": 40,
   "id": "51298383-76c9-4443-8d98-4f8937a6701e",
   "metadata": {},
   "outputs": [
    {
     "name": "stdout",
     "output_type": "stream",
     "text": [
      "[]\n"
     ]
    }
   ],
   "source": [
    "my_list.clear()\n",
    "print(my_list)"
   ]
  },
  {
   "cell_type": "code",
   "execution_count": 41,
   "id": "1cf97956-450c-4504-aefd-953b66ab17f9",
   "metadata": {},
   "outputs": [
    {
     "name": "stdout",
     "output_type": "stream",
     "text": [
      "0\n"
     ]
    }
   ],
   "source": [
    "\n",
    "print(len(my_list))"
   ]
  },
  {
   "cell_type": "code",
   "execution_count": 42,
   "id": "c3f33e4e-73f6-4f4e-b062-639221580789",
   "metadata": {},
   "outputs": [
    {
     "name": "stdout",
     "output_type": "stream",
     "text": [
      "1\n"
     ]
    }
   ],
   "source": [
    "my_list=[\"a\",\"b\",\"c\",\"d\"]\n",
    "print(my_list.index(\"b\"))"
   ]
  },
  {
   "cell_type": "code",
   "execution_count": 43,
   "id": "54d8a17d-0db1-4ae1-b22f-e237ed7765e1",
   "metadata": {},
   "outputs": [
    {
     "name": "stdout",
     "output_type": "stream",
     "text": [
      "3\n"
     ]
    }
   ],
   "source": [
    "my_list = [1, 2, 2, 3, 2, 4]\n",
    "print(my_list.count(2)) "
   ]
  },
  {
   "cell_type": "code",
   "execution_count": 44,
   "id": "cba2d81a-58a9-4175-be49-c0bba3e333b1",
   "metadata": {},
   "outputs": [
    {
     "name": "stdout",
     "output_type": "stream",
     "text": [
      "[1, 1, 2, 3, 4, 5, 9]\n",
      "['cherry', 'banana', 'apple']\n"
     ]
    }
   ],
   "source": [
    "numbers = [3, 1, 4, 1, 5, 9, 2]\n",
    "numbers.sort()\n",
    "print(numbers)\n",
    "words = [\"banana\",\"apple\",\"cherry\"]\n",
    "words.sort(reverse=True)\n",
    "print(words)"
   ]
  },
  {
   "cell_type": "code",
   "execution_count": 45,
   "id": "18f23cea-3ff8-4f02-80ac-b4d4bfa82a16",
   "metadata": {},
   "outputs": [
    {
     "name": "stdout",
     "output_type": "stream",
     "text": [
      "[5, 4, 3, 2, 1]\n"
     ]
    }
   ],
   "source": [
    "my_list = [1,2,3,4,5]\n",
    "my_list.reverse()\n",
    "print(my_list)"
   ]
  },
  {
   "cell_type": "markdown",
   "id": "196ebb13-8902-47b0-97bb-de12b3e3871f",
   "metadata": {},
   "source": [
    "# Tuple"
   ]
  },
  {
   "cell_type": "code",
   "execution_count": null,
   "id": "28bad284-d271-4085-82e8-07d602580242",
   "metadata": {},
   "outputs": [],
   "source": [
    "\n",
    "my_tuple = ()\n",
    "print(my_tuple)"
   ]
  }
 ],
 "metadata": {
  "kernelspec": {
   "display_name": "Python 3 (ipykernel)",
   "language": "python",
   "name": "python3"
  },
  "language_info": {
   "codemirror_mode": {
    "name": "ipython",
    "version": 3
   },
   "file_extension": ".py",
   "mimetype": "text/x-python",
   "name": "python",
   "nbconvert_exporter": "python",
   "pygments_lexer": "ipython3",
   "version": "3.13.5"
  }
 },
 "nbformat": 4,
 "nbformat_minor": 5
}
