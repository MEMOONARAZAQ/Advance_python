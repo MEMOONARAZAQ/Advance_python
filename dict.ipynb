{
 "cells": [
  {
   "cell_type": "markdown",
   "id": "11909c64",
   "metadata": {},
   "source": [
    "### Dictionary"
   ]
  },
  {
   "cell_type": "code",
   "execution_count": null,
   "id": "daa0c885",
   "metadata": {},
   "outputs": [],
   "source": [
    "dict_1 = {\n",
    "    'key' : value'\n",
    "}"
   ]
  },
  {
   "cell_type": "markdown",
   "id": "381dff33",
   "metadata": {},
   "source": []
  },
  {
   "cell_type": "code",
   "execution_count": 1,
   "id": "5e984df1",
   "metadata": {},
   "outputs": [
    {
     "name": "stdout",
     "output_type": "stream",
     "text": [
      "a\n"
     ]
    }
   ],
   "source": [
    "print('a')"
   ]
  },
  {
   "cell_type": "code",
   "execution_count": 5,
   "id": "190f280a",
   "metadata": {},
   "outputs": [],
   "source": [
    "dict_1 = { \n",
    "    'name' : 'ali',\n",
    "    'age' : 22,\n",
    "    'id' : 'abc',\n",
    "    'enrolled' : True,\n",
    "    'friends' : ['a', 'b', 'c']\n",
    "\n",
    "}"
   ]
  },
  {
   "cell_type": "code",
   "execution_count": 6,
   "id": "6f7b1369",
   "metadata": {},
   "outputs": [
    {
     "data": {
      "text/plain": [
       "dict"
      ]
     },
     "execution_count": 6,
     "metadata": {},
     "output_type": "execute_result"
    }
   ],
   "source": [
    "type(dict_1)"
   ]
  },
  {
   "cell_type": "code",
   "execution_count": 7,
   "id": "c5d6ff6c",
   "metadata": {},
   "outputs": [
    {
     "name": "stdout",
     "output_type": "stream",
     "text": [
      "{'name': 'ali', 'age': 22, 'id': 'abc', 'enrolled': True, 'friends': ['a', 'b', 'c']}\n"
     ]
    }
   ],
   "source": [
    "print(dict_1)"
   ]
  },
  {
   "cell_type": "code",
   "execution_count": 9,
   "id": "5681fc01",
   "metadata": {},
   "outputs": [],
   "source": [
    "grades = {\n",
    "    101 : 'B',\n",
    "    103 : 'A',\n",
    "    105 : 'A+'\n",
    "}"
   ]
  },
  {
   "cell_type": "code",
   "execution_count": null,
   "id": "95f48e01",
   "metadata": {},
   "outputs": [],
   "source": [
    "mix_dict = {\n",
    "    'roll' : 102,\n",
    "    'name' : 'Ali'\n",
    "    adress\n",
    "}"
   ]
  }
 ],
 "metadata": {
  "kernelspec": {
   "display_name": "base",
   "language": "python",
   "name": "python3"
  },
  "language_info": {
   "codemirror_mode": {
    "name": "ipython",
    "version": 3
   },
   "file_extension": ".py",
   "mimetype": "text/x-python",
   "name": "python",
   "nbconvert_exporter": "python",
   "pygments_lexer": "ipython3",
   "version": "3.13.5"
  }
 },
 "nbformat": 4,
 "nbformat_minor": 5
}
