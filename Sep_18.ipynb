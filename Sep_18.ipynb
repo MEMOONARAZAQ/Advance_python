{
 "cells": [
  {
   "cell_type": "markdown",
   "id": "4edf8d50-c076-4d2a-ac28-4bb058372738",
   "metadata": {},
   "source": [
    "# Arithmetic "
   ]
  },
  {
   "cell_type": "markdown",
   "id": "1b6769a8-71dd-4288-aa4c-1b221012a5ff",
   "metadata": {},
   "source": [
    "## Add"
   ]
  },
  {
   "cell_type": "code",
   "execution_count": 2,
   "id": "9d998e4b-fb4a-4f5d-a498-589fee913454",
   "metadata": {},
   "outputs": [
    {
     "name": "stdout",
     "output_type": "stream",
     "text": [
      "78\n"
     ]
    }
   ],
   "source": [
    "a=56\n",
    "b=22\n",
    "c=a+b\n",
    "print(c)"
   ]
  },
  {
   "cell_type": "markdown",
   "id": "7f58e6f5-664e-4aa1-92ed-bfebf8597b6c",
   "metadata": {},
   "source": [
    "## Subtract"
   ]
  },
  {
   "cell_type": "code",
   "execution_count": 3,
   "id": "2ef67421-5100-4bf4-a11d-e08fd37255e8",
   "metadata": {},
   "outputs": [
    {
     "name": "stdout",
     "output_type": "stream",
     "text": [
      "34\n"
     ]
    }
   ],
   "source": [
    "c=a-b\n",
    "print(c)"
   ]
  },
  {
   "cell_type": "markdown",
   "id": "40f9d849-8ad8-4523-aa9d-e5b8879e7ddd",
   "metadata": {},
   "source": [
    "## Multiply"
   ]
  },
  {
   "cell_type": "code",
   "execution_count": 4,
   "id": "e936f043-ba1a-43fc-aa01-f7ac6656c5a3",
   "metadata": {},
   "outputs": [
    {
     "name": "stdout",
     "output_type": "stream",
     "text": [
      "1232\n"
     ]
    }
   ],
   "source": [
    "c=a*b\n",
    "print(c)"
   ]
  },
  {
   "cell_type": "markdown",
   "id": "fff8e77a-d7a7-439b-a367-1cc5a492b10d",
   "metadata": {},
   "source": [
    "## Divide"
   ]
  },
  {
   "cell_type": "code",
   "execution_count": 5,
   "id": "3328911b-3481-4153-b779-7bce652d0c67",
   "metadata": {},
   "outputs": [
    {
     "name": "stdout",
     "output_type": "stream",
     "text": [
      "2.5454545454545454\n"
     ]
    }
   ],
   "source": [
    "c=a/b\n",
    "print(c)"
   ]
  },
  {
   "cell_type": "markdown",
   "id": "348cbf23-6fd4-4b6d-97c9-180962ebedc2",
   "metadata": {},
   "source": [
    "## Power"
   ]
  },
  {
   "cell_type": "code",
   "execution_count": 6,
   "id": "20c5694a-1349-4d23-817f-9a303717b855",
   "metadata": {},
   "outputs": [
    {
     "name": "stdout",
     "output_type": "stream",
     "text": [
      "288493873028852398739253829029106548736\n"
     ]
    }
   ],
   "source": [
    "c=a**b\n",
    "print(c)"
   ]
  },
  {
   "cell_type": "markdown",
   "id": "ad17028e-7ce5-4dc7-bef7-2b10b156554a",
   "metadata": {},
   "source": [
    "## Modules"
   ]
  },
  {
   "cell_type": "code",
   "execution_count": 9,
   "id": "307e94dc-7133-4267-8f54-8831b5aca067",
   "metadata": {},
   "outputs": [
    {
     "name": "stdout",
     "output_type": "stream",
     "text": [
      "12\n"
     ]
    }
   ],
   "source": [
    "c=a%b\n",
    "print(c)"
   ]
  },
  {
   "cell_type": "markdown",
   "id": "b1f20105-fa22-4970-946b-ef2195c472f8",
   "metadata": {},
   "source": [
    "# Conditions"
   ]
  },
  {
   "cell_type": "code",
   "execution_count": 1,
   "id": "c441c409-fba3-4dfc-be9a-acf28b23a62a",
   "metadata": {},
   "outputs": [
    {
     "name": "stdout",
     "output_type": "stream",
     "text": [
      "8\n"
     ]
    }
   ],
   "source": [
    "a=8\n",
    "if a>5:\n",
    "    print(a)"
   ]
  },
  {
   "cell_type": "code",
   "execution_count": 2,
   "id": "f77c2f91-1da6-4efa-8c3a-4486190e589d",
   "metadata": {},
   "outputs": [],
   "source": [
    "a=3\n",
    "if a>5:\n",
    "    print(a)              ## no output"
   ]
  },
  {
   "cell_type": "code",
   "execution_count": 3,
   "id": "e1f4486d-4345-42c4-b918-fa73a605759f",
   "metadata": {},
   "outputs": [
    {
     "name": "stdout",
     "output_type": "stream",
     "text": [
      "3\n"
     ]
    }
   ],
   "source": [
    "a=3\n",
    "if a>5:\n",
    "    print(a)\n",
    "else:\n",
    "    print(a)"
   ]
  },
  {
   "cell_type": "code",
   "execution_count": 4,
   "id": "66d97e2a-fc20-4d11-87b6-8bdaa3a7fa3c",
   "metadata": {},
   "outputs": [
    {
     "name": "stdout",
     "output_type": "stream",
     "text": [
      "Smaller\n"
     ]
    }
   ],
   "source": [
    "a=3\n",
    "if a>5:\n",
    "    print(\"Greater\")\n",
    "else:\n",
    "    print(\"Smaller\")"
   ]
  },
  {
   "cell_type": "code",
   "execution_count": 5,
   "id": "4be183c3-ad3f-4a19-85b1-5b9d4aa53067",
   "metadata": {},
   "outputs": [
    {
     "name": "stdout",
     "output_type": "stream",
     "text": [
      "Grade E\n"
     ]
    }
   ],
   "source": [
    "score = 50\n",
    "if score>=90:\n",
    "    print(\"Grade A\")\n",
    "elif score>=80:\n",
    "    print(\"Grade B\")\n",
    "elif score>=70:\n",
    "    print(\"Grade C\")\n",
    "elif score>=60:\n",
    "    print(\"Grade D\")\n",
    "else:\n",
    "    print(\"Grade E\")\n",
    "    \n"
   ]
  },
  {
   "cell_type": "code",
   "execution_count": 6,
   "id": "de7c5342-0e7f-4847-bbdd-c18f8438e5ac",
   "metadata": {},
   "outputs": [
    {
     "name": "stdout",
     "output_type": "stream",
     "text": [
      "Fail\n"
     ]
    }
   ],
   "source": [
    "score = 50\n",
    "if score>=90:\n",
    "    print(\"Grade A\")\n",
    "elif score>=80:\n",
    "    print(\"Grade B\")\n",
    "elif score>=70:\n",
    "    print(\"Grade C\")\n",
    "elif score>=60:\n",
    "    print(\"Grade D\")\n",
    "else:\n",
    "    print(\"Fail\")"
   ]
  },
  {
   "cell_type": "code",
   "execution_count": 21,
   "id": "dcab2e87-1566-43a7-b062-a509363958d8",
   "metadata": {},
   "outputs": [
    {
     "name": "stdout",
     "output_type": "stream",
     "text": [
      "Grade D\n"
     ]
    }
   ],
   "source": [
    "score = 60\n",
    "if score>=90:\n",
    "    print(\"Grade A\")\n",
    "elif score>=80:\n",
    "    print(\"Grade B\")\n",
    "elif score>=70:\n",
    "    print(\"Grade C\")\n",
    "elif score>=60:\n",
    "    print(\"Grade D\")\n",
    "else:\n",
    "    print(\"Fail\")"
   ]
  },
  {
   "cell_type": "code",
   "execution_count": 22,
   "id": "347ba8d9-ce11-4024-b1fa-ac1bdf381d07",
   "metadata": {},
   "outputs": [
    {
     "name": "stdout",
     "output_type": "stream",
     "text": [
      "Grade C\n"
     ]
    }
   ],
   "source": [
    "score = 77\n",
    "if score>=90:\n",
    "    print(\"Grade A\")\n",
    "elif score>=80:\n",
    "    print(\"Grade B\")\n",
    "elif score>=70:\n",
    "    print(\"Grade C\")\n",
    "elif score>=60:\n",
    "    print(\"Grade D\")\n",
    "else:\n",
    "    print(\"Fail\")"
   ]
  },
  {
   "cell_type": "code",
   "execution_count": 24,
   "id": "0f0182af-5655-4d65-a002-8638a63caf4e",
   "metadata": {},
   "outputs": [
    {
     "name": "stdout",
     "output_type": "stream",
     "text": [
      "Enter your Marks 45\n"
     ]
    },
    {
     "name": "stdout",
     "output_type": "stream",
     "text": [
      "5\n"
     ]
    }
   ],
   "source": [
    "a=input(\"Enter your Marks\")\n",
    "a=\"5\"\n",
    "a=int(a)\n",
    "print(a)\n",
    "        "
   ]
  },
  {
   "cell_type": "code",
   "execution_count": 31,
   "id": "af2d13bd-c8a5-4257-9398-61f1a9e8a4a8",
   "metadata": {},
   "outputs": [
    {
     "name": "stdout",
     "output_type": "stream",
     "text": [
      "Enter your Marks 59\n"
     ]
    },
    {
     "name": "stdout",
     "output_type": "stream",
     "text": [
      "Fail\n"
     ]
    }
   ],
   "source": [
    "a=input(\"Enter your Marks\")\n",
    "# a=\"5\"\n",
    "score=int(a)\n",
    "if score>=90:\n",
    "    print(\"Grade A\")\n",
    "elif score>=80:\n",
    "    print(\"Grade B\")\n",
    "elif score>=70:\n",
    "    print(\"Grade C\")\n",
    "elif score>=60:\n",
    "    print(\"Grade D\")\n",
    "else:\n",
    "    print(\"Fail\")"
   ]
  },
  {
   "cell_type": "code",
   "execution_count": 26,
   "id": "a41e52cc-2264-4bb6-ac65-50b0e7c6f788",
   "metadata": {},
   "outputs": [
    {
     "name": "stdout",
     "output_type": "stream",
     "text": [
      "Enter your Marks 70\n"
     ]
    }
   ],
   "source": [
    "a=input(\"Enter your Marks\")\n",
    "a=\"5\"\n",
    "a=int(a)"
   ]
  },
  {
   "cell_type": "markdown",
   "id": "06a939a5-c42e-4bad-bce1-3b5e66f0cffc",
   "metadata": {},
   "source": [
    "# Dictionary"
   ]
  },
  {
   "cell_type": "code",
   "execution_count": 33,
   "id": "0b756f81-89c3-45a8-95db-0b786263aaae",
   "metadata": {},
   "outputs": [
    {
     "name": "stdout",
     "output_type": "stream",
     "text": [
      "{'name': 'Ali', 'age': 30, 'city': 'Isl'}\n"
     ]
    }
   ],
   "source": [
    "person = {\n",
    "    \"name\":\"Ali\",\n",
    "    \"age\":30,\n",
    "    \"city\":\"Isl\" }\n",
    "print(person)\n"
   ]
  },
  {
   "cell_type": "code",
   "execution_count": 34,
   "id": "54431d93-f044-4e79-aa47-1f615efd7fa2",
   "metadata": {},
   "outputs": [
    {
     "name": "stdout",
     "output_type": "stream",
     "text": [
      "30\n"
     ]
    }
   ],
   "source": [
    "print((person)[\"age\"])"
   ]
  },
  {
   "cell_type": "code",
   "execution_count": 40,
   "id": "30c21ff2-87e6-49d3-93f9-4367e7dca569",
   "metadata": {},
   "outputs": [
    {
     "ename": "KeyError",
     "evalue": "'age'",
     "output_type": "error",
     "traceback": [
      "\u001b[1;31m---------------------------------------------------------------------------\u001b[0m",
      "\u001b[1;31mKeyError\u001b[0m                                  Traceback (most recent call last)",
      "Cell \u001b[1;32mIn[40], line 1\u001b[0m\n\u001b[1;32m----> 1\u001b[0m \u001b[38;5;28;01mdel\u001b[39;00m (person[\u001b[38;5;124m\"\u001b[39m\u001b[38;5;124mage\u001b[39m\u001b[38;5;124m\"\u001b[39m])\n",
      "\u001b[1;31mKeyError\u001b[0m: 'age'"
     ]
    }
   ],
   "source": [
    "del (person[\"age\"])"
   ]
  },
  {
   "cell_type": "code",
   "execution_count": null,
   "id": "9cb47816-025e-40ad-9e9d-69368bccf5c4",
   "metadata": {},
   "outputs": [],
   "source": []
  }
 ],
 "metadata": {
  "kernelspec": {
   "display_name": "ai_env",
   "language": "python",
   "name": "python3"
  },
  "language_info": {
   "codemirror_mode": {
    "name": "ipython",
    "version": 3
   },
   "file_extension": ".py",
   "mimetype": "text/x-python",
   "name": "python",
   "nbconvert_exporter": "python",
   "pygments_lexer": "ipython3",
   "version": "3.9.23"
  }
 },
 "nbformat": 4,
 "nbformat_minor": 5
}
